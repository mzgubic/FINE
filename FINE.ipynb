{
 "cells": [
  {
   "cell_type": "code",
   "execution_count": 1,
   "metadata": {
    "collapsed": true
   },
   "outputs": [],
   "source": [
    "import numpy as np\n",
    "import tensorflow as tf\n",
    "from models import FINE\n",
    "import matplotlib.pyplot as plt"
   ]
  },
  {
   "cell_type": "code",
   "execution_count": 2,
   "metadata": {
    "collapsed": false
   },
   "outputs": [
    {
     "data": {
      "image/png": "[encoded data removed]",
      "text/plain": [
       "<Figure size 432x288 with 1 Axes>"
      ]
     },
     "metadata": {},
     "output_type": "display_data"
    },
    {
     "name": "stdout",
     "output_type": "stream",
     "text": [
      "Fisher information contained in a single variate X about mu is 1.\n"
     ]
    }
   ],
   "source": [
    "# generate data\n",
    "variates = np.random.normal(0, 1.0, size=1000)\n",
    "\n",
    "# plot variates\n",
    "fig, ax = plt.subplots()\n",
    "ax.hist(variates, bins=100)\n",
    "plt.show()\n",
    "\n",
    "print('Fisher information contained in a single variate X about mu is 1.')"
   ]
  },
  {
   "cell_type": "code",
   "execution_count": 3,
   "metadata": {
    "collapsed": false
   },
   "outputs": [
    {
     "name": "stderr",
     "output_type": "stream",
     "text": [
      "/home/philipp/.local/lib/python3.5/site-packages/matplotlib/figure.py:445: UserWarning: Matplotlib is currently using module://ipykernel.pylab.backend_inline, which is a non-GUI backend, so cannot show the figure.\n",
      "  % get_backend())\n"
     ]
    }
   ],
   "source": [
    "\n",
    "\n",
    "# parameters\n",
    "n_samples = 10\n",
    "n_epochs = 200\n",
    "d_theta = 0.1\n",
    "\n",
    "# prepare the input placeholders\n",
    "x_theta = tf.placeholder(tf.float32, shape=(n_samples, 1), name='x_theta')\n",
    "x_theta_prime = tf.placeholder(tf.float32, shape=(n_samples, 1), name='x_theta_prime')\n",
    "\n",
    "# make the FI and optimisation graphs\n",
    "FI, opt = FINE(x_theta, x_theta_prime)\n",
    "\n",
    "# start the session\n",
    "sess = tf.InteractiveSession()\n",
    "sess.run(tf.global_variables_initializer())\n",
    "\n",
    "FIs = []\n",
    "for i in range(n_epochs):\n",
    "    \n",
    "    # generate new samples\n",
    "    x_th = np.random.normal(0, 1.0, size=(n_samples, 1))\n",
    "    x_thp = np.random.normal(d_theta, 1.0, size=(n_samples, 1))\n",
    "    \n",
    "    # training step\n",
    "    feed_dict = {x_theta:x_th, x_theta_prime:x_thp}\n",
    "    fi, _ = sess.run([FI, opt], feed_dict=feed_dict)\n",
    "    \n",
    "    # append\n",
    "    FIs.append(fi)\n",
    "    \n",
    "fig, ax = plt.subplots()\n",
    "ax.plot(range(len(FIs)), FIs, label='FINE')\n",
    "ax.plot([0, len(FIs)], [1,1], label='True Fisher Information')\n",
    "ax.set_xlabel('training steps')\n",
    "ax.legend(loc='best')\n",
    "fig.savefig('FINE.png')\n",
    "fig.show()\n",
    "    \n",
    "    "
   ]
  },
  {
   "cell_type": "code",
   "execution_count": null,
   "metadata": {
    "collapsed": true
   },
   "outputs": [],
   "source": []
  }
 ],
 "metadata": {
  "kernelspec": {
   "display_name": "Python 3",
   "language": "python",
   "name": "python3"
  },
  "language_info": {
   "codemirror_mode": {
    "name": "ipython",
    "version": 3
   },
   "file_extension": ".py",
   "mimetype": "text/x-python",
   "name": "python",
   "nbconvert_exporter": "python",
   "pygments_lexer": "ipython3",
   "version": "3.5.3"
  }
 },
 "nbformat": 4,
 "nbformat_minor": 2
}
